{
 "cells": [
  {
   "cell_type": "markdown",
   "id": "f6bfc752-bcdd-44ea-a22d-181cfa0d8d9b",
   "metadata": {},
   "source": [
    "1)Explain Class and Object with respect to Object-Oriented Programming. Give a suitable example."
   ]
  },
  {
   "cell_type": "raw",
   "id": "ea61da80-beeb-4b3b-851f-edbfd2634e13",
   "metadata": {},
   "source": [
    "class:-Class is a blueprint which has attributes(properties) and behaviors(methods) that the objects of that class will have.\n",
    "objects:-objets are variables in python which can be used to store data and functions."
   ]
  },
  {
   "cell_type": "code",
   "execution_count": 6,
   "id": "b9eb9b67-419e-4020-a0db-05edbbf63df8",
   "metadata": {},
   "outputs": [
    {
     "name": "stdout",
     "output_type": "stream",
     "text": [
      "90\n",
      "siva\n"
     ]
    }
   ],
   "source": [
    "class student:\n",
    "    def __init__(self,name,marks):\n",
    "        self.name=name\n",
    "        self.marks=marks\n",
    "std=student('siva',90)\n",
    "print(std.marks)\n",
    "print(std.name)"
   ]
  },
  {
   "cell_type": "raw",
   "id": "2c840633-ff70-4c37-8b9e-14f97aa494c3",
   "metadata": {},
   "source": [
    "in above example student is class and std is object"
   ]
  },
  {
   "cell_type": "markdown",
   "id": "5932ca17-1b28-4626-bbe7-92f13331a1d7",
   "metadata": {},
   "source": [
    "Q2. Name the four pillars of OOPs."
   ]
  },
  {
   "cell_type": "raw",
   "id": "168f46d7-7033-46c1-9d27-2758c1d9a1ac",
   "metadata": {},
   "source": [
    "Four pillers of oops in python are:-\n",
    "i)Encapsulation\n",
    "ii)inheritance\n",
    "iii)polymorphism\n",
    "iv)abstraction"
   ]
  },
  {
   "cell_type": "markdown",
   "id": "6b8e9f3d-9e84-45ac-a4f8-1e837c6699cd",
   "metadata": {},
   "source": [
    "3)Explain why the __init__() function is used. Give a suitable example."
   ]
  },
  {
   "cell_type": "raw",
   "id": "a6b69d72-d1be-467b-adc1-622ff1875081",
   "metadata": {},
   "source": [
    "__init__():-This is a constructor and it is used to initialise the values.it is also called a special method or Dunder method."
   ]
  },
  {
   "cell_type": "code",
   "execution_count": 8,
   "id": "bd6319a4-c652-4665-884c-7a47c979c084",
   "metadata": {},
   "outputs": [
    {
     "name": "stdout",
     "output_type": "stream",
     "text": [
      "90\n",
      "siva\n"
     ]
    }
   ],
   "source": [
    "class student:\n",
    "    def __init__(self,name,marks):\n",
    "        self.name=name\n",
    "        self.marks=marks\n",
    "std=student('siva',90)\n",
    "print(std.marks)\n",
    "print(std.name)"
   ]
  },
  {
   "cell_type": "markdown",
   "id": "ecee41aa-5e08-4185-9809-5fe1aabde911",
   "metadata": {},
   "source": [
    "Q4. Why self is used in OOPs?"
   ]
  },
  {
   "cell_type": "raw",
   "id": "d23a05bd-eb06-4b6d-8ff1-0a1ae2334821",
   "metadata": {},
   "source": [
    "self represents instnace of a class in python"
   ]
  },
  {
   "cell_type": "code",
   "execution_count": 2,
   "id": "d5bd1778-6b44-466d-aaab-9743d35cc03a",
   "metadata": {},
   "outputs": [
    {
     "name": "stdout",
     "output_type": "stream",
     "text": [
      "hello everyone\n"
     ]
    }
   ],
   "source": [
    "class students:\n",
    "    def student(self):\n",
    "        print(\"hello everyone\")\n",
    "obj=students()\n",
    "obj.student()"
   ]
  },
  {
   "cell_type": "markdown",
   "id": "99580f33-c3f0-451f-8ca2-249380915d22",
   "metadata": {},
   "source": [
    "Q5. What is inheritance? Give an example for each type of inheritance."
   ]
  },
  {
   "cell_type": "markdown",
   "id": "ba4dadcd-20ad-4b75-9894-82fba3bbc912",
   "metadata": {},
   "source": [
    "Inheritance:-creating of a class which inherits the methods and properties of another class is called inheritance.\n",
    "types of inheritace:-\n",
    "i)single imheritance\n",
    "ii)multiple inheritance\n",
    "iii)multi level inheritance\n",
    "iv)hierarchical inheritance"
   ]
  },
  {
   "cell_type": "code",
   "execution_count": 4,
   "id": "d4436ccf-4363-4222-a5b5-48235182877a",
   "metadata": {},
   "outputs": [
    {
     "name": "stdout",
     "output_type": "stream",
     "text": [
      "animal\n",
      "meow\n"
     ]
    }
   ],
   "source": [
    "class Animal:\n",
    "    def anim(self):\n",
    "        print(\"animal\")\n",
    "class cat(Animal):\n",
    "    def sound(self):\n",
    "        print(\"meow\")\n",
    "obj=cat()\n",
    "obj.anim()\n",
    "obj.sound()"
   ]
  },
  {
   "cell_type": "code",
   "execution_count": 9,
   "id": "6969dab8-5b90-42b5-a12a-50119ec3ccf2",
   "metadata": {},
   "outputs": [
    {
     "name": "stdout",
     "output_type": "stream",
     "text": [
      "animal\n",
      "meow\n",
      "cat drinks milk\n"
     ]
    }
   ],
   "source": [
    "class Animal:\n",
    "    def anim(self):\n",
    "        print(\"animal\")\n",
    "class Cat(Animal):\n",
    "    def sound(self):\n",
    "        print(\"meow\")\n",
    "class Food(Cat):\n",
    "    def drinks(self):\n",
    "        print(\"cat drinks milk\")\n",
    "obj1=Food()\n",
    "obj1.anim()\n",
    "obj1.sound()\n",
    "obj1.drinks()"
   ]
  },
  {
   "cell_type": "code",
   "execution_count": 12,
   "id": "1a380bb8-b108-4022-a2d7-d884ff672e47",
   "metadata": {},
   "outputs": [
    {
     "name": "stdout",
     "output_type": "stream",
     "text": [
      "animal\n",
      "meow\n",
      "animal\n",
      "roar\n"
     ]
    }
   ],
   "source": [
    "class Animal:\n",
    "    def anim(self):\n",
    "        print(\"animal\")\n",
    "class Cat(Animal):\n",
    "    def sound(self):\n",
    "        print(\"meow\")\n",
    "class Lion(Animal):\n",
    "    def sound(self):\n",
    "        print(\"roar\")\n",
    "Cat_obj=Cat()\n",
    "Cat_obj.anim()\n",
    "Cat_obj.sound()\n",
    "Lion_obj=Lion()\n",
    "Lion_obj.anim()\n",
    "Lion_obj.sound()"
   ]
  },
  {
   "cell_type": "code",
   "execution_count": 13,
   "id": "0274313f-f753-4b7f-88df-4b408704d72f",
   "metadata": {},
   "outputs": [
    {
     "name": "stdout",
     "output_type": "stream",
     "text": [
      "marks in subject1= 70\n",
      "marks in subject2= 90\n"
     ]
    }
   ],
   "source": [
    "class subject1:\n",
    "    def marks1(self):\n",
    "        print(\"marks in subject1=\",70)\n",
    "class subject2:\n",
    "    def marks2(self):\n",
    "        print(\"marks in subject2=\",90)\n",
    "class result(subject1,subject2):\n",
    "    pass\n",
    "res=result()\n",
    "res.marks1()\n",
    "res.marks2()\n",
    "\n"
   ]
  },
  {
   "cell_type": "code",
   "execution_count": null,
   "id": "0ebf8ce7-7e16-4aa0-8f58-8c3b0d67545f",
   "metadata": {},
   "outputs": [],
   "source": []
  }
 ],
 "metadata": {
  "kernelspec": {
   "display_name": "Python 3 (ipykernel)",
   "language": "python",
   "name": "python3"
  },
  "language_info": {
   "codemirror_mode": {
    "name": "ipython",
    "version": 3
   },
   "file_extension": ".py",
   "mimetype": "text/x-python",
   "name": "python",
   "nbconvert_exporter": "python",
   "pygments_lexer": "ipython3",
   "version": "3.10.8"
  },
  "toc-autonumbering": true
 },
 "nbformat": 4,
 "nbformat_minor": 5
}
