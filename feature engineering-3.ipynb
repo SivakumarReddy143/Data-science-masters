{
 "cells": [
  {
   "cell_type": "markdown",
   "metadata": {},
   "source": [
    "## Q1. What is Min-Max scaling, and how is it used in data preprocessing? Provide an example to illustrate its application."
   ]
  },
  {
   "cell_type": "markdown",
   "metadata": {},
   "source": [
    "Min-Max scaling, also known as feature scaling or normalization, is a data preprocessing technique used to transform numerical data into a specific range. The purpose of Min-Max scaling is to rescale the features so that they all have the same scale and range, typically between 0 and 1. This normalization is useful when features have different units or magnitudes, ensuring that each feature contributes equally to the analysis and modeling process.\n",
    "\n",
    "On applying Min Max scaling the datapoints will be transformed in the range [0,1] where the minimum value is represented 0 and the maximum value is represented as 1.\n"
   ]
  },
  {
   "cell_type": "code",
   "execution_count": 2,
   "metadata": {},
   "outputs": [],
   "source": [
    "from sklearn.preprocessing import MinMaxScaler\n",
    "import numpy as np"
   ]
  },
  {
   "cell_type": "code",
   "execution_count": 7,
   "metadata": {},
   "outputs": [
    {
     "data": {
      "text/plain": [
       "array([[0.19642857, 0.5       , 0.        ],\n",
       "       [0.        , 0.5       , 0.52380952],\n",
       "       [0.94642857, 1.        , 0.61904762],\n",
       "       [1.        , 0.        , 1.        ]])"
      ]
     },
     "execution_count": 7,
     "metadata": {},
     "output_type": "execute_result"
    }
   ],
   "source": [
    "scale=MinMaxScaler()\n",
    "arr=np.array([[45,65,56],[34,65,78],[87,85,82],[90,45,98]])\n",
    "scale.fit_transform(arr)"
   ]
  },
  {
   "cell_type": "markdown",
   "metadata": {},
   "source": [
    "## Q2. What is the Unit Vector technique in feature scaling, and how does it differ from Min-Max scaling? Provide an example to illustrate its application."
   ]
  },
  {
   "cell_type": "markdown",
   "metadata": {},
   "source": [
    "The Unit Vector technique, also known as \"Normalization\" or \"L2 normalization,\" is another data preprocessing method used for feature scaling. Unlike Min-Max scaling, which scales features to a specific range (e.g., [0, 1]), the Unit Vector technique scales each data point to have a Euclidean norm (magnitude) of 1. This normalization ensures that all data points lie on the surface of a unit hypersphere.\n",
    "\n",
    "Unit Vector Scaling is beneficial when the magnitude of the individual data points matters more than their absolute values."
   ]
  },
  {
   "cell_type": "code",
   "execution_count": 8,
   "metadata": {},
   "outputs": [],
   "source": [
    "from sklearn.preprocessing import normalize\n",
    "import numpy as np"
   ]
  },
  {
   "cell_type": "code",
   "execution_count": 11,
   "metadata": {},
   "outputs": [
    {
     "name": "stdout",
     "output_type": "stream",
     "text": [
      "scaled data:\n",
      "\n",
      "[[0.38619852 0.65224639 0.65224639]\n",
      " [0.25803745 0.64140737 0.72250485]\n",
      " [0.33884986 0.55810566 0.7574291 ]\n",
      " [0.83134478 0.28842574 0.47505416]]\n"
     ]
    }
   ],
   "source": [
    "data=np.array([[45,76,76],[35,87,98],[34,56,76],[98,34,56]])\n",
    "scaled_data=normalize(data)\n",
    "print(f\"scaled data:\\n\\n{scaled_data}\")"
   ]
  },
  {
   "cell_type": "markdown",
   "metadata": {},
   "source": [
    "## Q3. What is PCA (Principle Component Analysis), and how is it used in dimensionality reduction? Provide an example to illustrate its application."
   ]
  },
  {
   "cell_type": "markdown",
   "metadata": {},
   "source": [
    "Principal Component Analysis is a dimensionality reduction techique ie, used to transform higher dimensional data to lower dimensional space while retaining most of the important information.\n",
    "\n",
    "It does this by identifying the principal components which are orthogonaldirections in the data that capture the maximum variance .\n",
    "\n",
    "The components are odered in the terms of their importance,the first component explaining the most variance the second component expalianing the second most variance and so on.\n",
    "\n",
    "The steps involved in performing PCA are :\n",
    "\n",
    "**Standardize the Data**: If the features are on different scales, it's essential to standardize the data (mean = 0, standard deviation = 1) to prevent features with larger scales from dominating the analysis.\n",
    "\n",
    "**Compute Covariance Matrix**: Calculate the covariance matrix of the standardized data. The covariance matrix describes the relationships between features and shows how they vary together.\n",
    "\n",
    "**Compute Eigenvectors and Eigenvalues**: Find the eigenvectors and eigenvalues of the covariance matrix. Eigenvectors represent the principal components, and eigenvalues represent the amount of variance explained by each component.\n",
    "\n",
    "**Select Principal Components**: Sort the eigenvalues in descending order and choose the top k eigenvectors (principal components) that explain the most variance.\n",
    "\n",
    "**Project Data**: Project the original data onto the selected principal components to obtain a lower-dimensional representation."
   ]
  },
  {
   "cell_type": "code",
   "execution_count": 12,
   "metadata": {},
   "outputs": [],
   "source": [
    "import numpy as np\n",
    "from sklearn.decomposition import PCA"
   ]
  },
  {
   "cell_type": "code",
   "execution_count": 13,
   "metadata": {},
   "outputs": [
    {
     "data": {
      "text/plain": [
       "array([[ 44.20972747,  14.10970018],\n",
       "       [-15.70777213, -25.26129952],\n",
       "       [-32.743025  ,  28.87401884],\n",
       "       [  4.24106966, -17.72241949]])"
      ]
     },
     "execution_count": 13,
     "metadata": {},
     "output_type": "execute_result"
    }
   ],
   "source": [
    "data=np.array([[45,6,76],[34,76,87],[89,67,98],[34,56,78]])\n",
    "pca=PCA(n_components=2)\n",
    "data=pca.fit_transform(data)\n",
    "data"
   ]
  },
  {
   "cell_type": "markdown",
   "metadata": {},
   "source": [
    "## Q4. What is the relationship between PCA and Feature Extraction, and how can PCA be used for Feature Extraction? Provide an example to illustrate this concept."
   ]
  },
  {
   "cell_type": "markdown",
   "metadata": {},
   "source": [
    "### Relationship Between PCA and Feature Extraction\n",
    "\n",
    "Principal Component Analysis (PCA) is a statistical technique used primarily for dimensionality reduction and feature extraction. Feature extraction involves transforming the input data into a set of features that can represent the underlying structure of the data effectively, often with fewer dimensions. PCA achieves this by identifying the directions (principal components) in which the data varies the most and projecting the data onto these directions.\n",
    "\n",
    "### How PCA is Used for Feature Extraction\n",
    "\n",
    "PCA transforms the original data into a new coordinate system, where the greatest variance by any projection of the data lies on the first axis (the first principal component), the second greatest variance on the second axis, and so on. By selecting the top \\( k \\) principal components, we can reduce the dimensionality of the data while retaining most of the variability present in the original data.\n",
    "\n",
    "### Steps for Using PCA for Feature Extraction\n",
    "\n",
    "1. **Standardize the Data:** Ensure that each feature has a mean of zero and a standard deviation of one.\n",
    "2. **Compute the Covariance Matrix:** This matrix describes the variance and covariance between different features.\n",
    "3. **Compute the Eigenvalues and Eigenvectors:** These describe the directions of maximum variance (principal components).\n",
    "4. **Sort the Principal Components:** Rank the eigenvalues in descending order and select the top \\( k \\) eigenvectors.\n",
    "5. **Transform the Data:** Project the original data onto the selected \\( k \\) principal components to obtain the new feature set."
   ]
  },
  {
   "cell_type": "code",
   "execution_count": 14,
   "metadata": {},
   "outputs": [],
   "source": [
    "import numpy as np\n",
    "from sklearn.decomposition import PCA"
   ]
  },
  {
   "cell_type": "code",
   "execution_count": 15,
   "metadata": {},
   "outputs": [
    {
     "data": {
      "text/plain": [
       "array([[ 44.20972747,  14.10970018],\n",
       "       [-15.70777213, -25.26129952],\n",
       "       [-32.743025  ,  28.87401884],\n",
       "       [  4.24106966, -17.72241949]])"
      ]
     },
     "execution_count": 15,
     "metadata": {},
     "output_type": "execute_result"
    }
   ],
   "source": [
    "data=np.array([[45,6,76],[34,76,87],[89,67,98],[34,56,78]])\n",
    "pca=PCA(n_components=2)\n",
    "data=pca.fit_transform(data)\n",
    "data"
   ]
  },
  {
   "cell_type": "markdown",
   "metadata": {},
   "source": [
    "## Q5. You are working on a project to build a recommendation system for a food delivery service. The dataset contains features such as price, rating, and delivery time. Explain how you would use Min-Max scaling to preprocess the data."
   ]
  },
  {
   "cell_type": "markdown",
   "metadata": {},
   "source": [
    "In the project to build a recommendation system for a food delivery service, Min-Max scaling can be used to preprocess the numerical features such as price, rating, and delivery time. Min-Max scaling will ensure that all these features are transformed to a common scale, typically ranging from 0 to 1, which is essential for the recommendation system to provide accurate and meaningful recommendations.\n",
    "\n",
    "Min-Max scaling can be applied to preprocess the data:\n",
    "\n",
    "**Data Collection**: Collect the dataset containing relevant information about food items, including features like price, rating, and delivery time.\n",
    "\n",
    "**Data Exploration**: Explore the dataset to understand the range and distribution of the numerical features (price, rating, and delivery time).\n",
    "\n",
    "**Data Standardization (Optional)**: Before applying Min-Max scaling, it's essential to check if the numerical features have different scales. If they are already on similar scales, standardization (mean = 0, standard deviation = 1) might not be necessary. However, if features have different ranges, standardization can be performed to bring all features to a common scale.\n",
    "\n",
    "**Min-Max Scaling**: Apply Min-Max scaling to each numerical feature. By performing this scaling, all features will be transformed to a common scale, ranging from 0 to 1.\n",
    "\n",
    "**Updated Dataset**: After Min-Max scaling, you will have an updated dataset with the transformed features, which are now on a common scale.\n",
    "\n",
    "The Min-Max scaled dataset can then be used to build the recommendation system. When a user requests food recommendations, the system can compare the Min-Max scaled features of different food items to identify the most suitable recommendations based on the user's preferences for price, rating, and delivery time. Min-Max scaling ensures that each of these features contributes equally to the recommendation process, leading to a fair and effective recommendation system for the food delivery service."
   ]
  },
  {
   "cell_type": "code",
   "execution_count": 16,
   "metadata": {},
   "outputs": [],
   "source": [
    "import pandas as pd\n",
    "from sklearn.preprocessing import MinMaxScaler"
   ]
  },
  {
   "cell_type": "code",
   "execution_count": 17,
   "metadata": {},
   "outputs": [
    {
     "data": {
      "text/html": [
       "<div>\n",
       "<style scoped>\n",
       "    .dataframe tbody tr th:only-of-type {\n",
       "        vertical-align: middle;\n",
       "    }\n",
       "\n",
       "    .dataframe tbody tr th {\n",
       "        vertical-align: top;\n",
       "    }\n",
       "\n",
       "    .dataframe thead th {\n",
       "        text-align: right;\n",
       "    }\n",
       "</style>\n",
       "<table border=\"1\" class=\"dataframe\">\n",
       "  <thead>\n",
       "    <tr style=\"text-align: right;\">\n",
       "      <th></th>\n",
       "      <th>food item</th>\n",
       "      <th>price</th>\n",
       "      <th>rating</th>\n",
       "      <th>time in minutes</th>\n",
       "    </tr>\n",
       "  </thead>\n",
       "  <tbody>\n",
       "    <tr>\n",
       "      <th>0</th>\n",
       "      <td>biriyani</td>\n",
       "      <td>100</td>\n",
       "      <td>4.5</td>\n",
       "      <td>45</td>\n",
       "    </tr>\n",
       "    <tr>\n",
       "      <th>1</th>\n",
       "      <td>egg rice</td>\n",
       "      <td>80</td>\n",
       "      <td>4.0</td>\n",
       "      <td>30</td>\n",
       "    </tr>\n",
       "    <tr>\n",
       "      <th>2</th>\n",
       "      <td>burger</td>\n",
       "      <td>150</td>\n",
       "      <td>4.9</td>\n",
       "      <td>25</td>\n",
       "    </tr>\n",
       "    <tr>\n",
       "      <th>3</th>\n",
       "      <td>pizza</td>\n",
       "      <td>200</td>\n",
       "      <td>3.0</td>\n",
       "      <td>50</td>\n",
       "    </tr>\n",
       "  </tbody>\n",
       "</table>\n",
       "</div>"
      ],
      "text/plain": [
       "  food item  price  rating  time in minutes\n",
       "0  biriyani    100     4.5               45\n",
       "1  egg rice     80     4.0               30\n",
       "2    burger    150     4.9               25\n",
       "3     pizza    200     3.0               50"
      ]
     },
     "execution_count": 17,
     "metadata": {},
     "output_type": "execute_result"
    }
   ],
   "source": [
    "data={\n",
    "    \"food item\":[\"biriyani\",\"egg rice\",\"burger\",\"pizza\"],\n",
    "    \"price\":[100,80,150,200],\n",
    "    \"rating\":[4.5,4,4.9,3.0],\n",
    "    \"time in minutes\":[45,30,25,50]\n",
    "}\n",
    "df=pd.DataFrame(data)\n",
    "df"
   ]
  },
  {
   "cell_type": "code",
   "execution_count": 19,
   "metadata": {},
   "outputs": [
    {
     "data": {
      "text/html": [
       "<div>\n",
       "<style scoped>\n",
       "    .dataframe tbody tr th:only-of-type {\n",
       "        vertical-align: middle;\n",
       "    }\n",
       "\n",
       "    .dataframe tbody tr th {\n",
       "        vertical-align: top;\n",
       "    }\n",
       "\n",
       "    .dataframe thead th {\n",
       "        text-align: right;\n",
       "    }\n",
       "</style>\n",
       "<table border=\"1\" class=\"dataframe\">\n",
       "  <thead>\n",
       "    <tr style=\"text-align: right;\">\n",
       "      <th></th>\n",
       "      <th>scaled_price</th>\n",
       "      <th>scaled_rating</th>\n",
       "      <th>scaled_time</th>\n",
       "    </tr>\n",
       "  </thead>\n",
       "  <tbody>\n",
       "    <tr>\n",
       "      <th>0</th>\n",
       "      <td>0.166667</td>\n",
       "      <td>0.789474</td>\n",
       "      <td>0.8</td>\n",
       "    </tr>\n",
       "    <tr>\n",
       "      <th>1</th>\n",
       "      <td>0.000000</td>\n",
       "      <td>0.526316</td>\n",
       "      <td>0.2</td>\n",
       "    </tr>\n",
       "    <tr>\n",
       "      <th>2</th>\n",
       "      <td>0.583333</td>\n",
       "      <td>1.000000</td>\n",
       "      <td>0.0</td>\n",
       "    </tr>\n",
       "    <tr>\n",
       "      <th>3</th>\n",
       "      <td>1.000000</td>\n",
       "      <td>0.000000</td>\n",
       "      <td>1.0</td>\n",
       "    </tr>\n",
       "  </tbody>\n",
       "</table>\n",
       "</div>"
      ],
      "text/plain": [
       "   scaled_price  scaled_rating  scaled_time\n",
       "0      0.166667       0.789474          0.8\n",
       "1      0.000000       0.526316          0.2\n",
       "2      0.583333       1.000000          0.0\n",
       "3      1.000000       0.000000          1.0"
      ]
     },
     "execution_count": 19,
     "metadata": {},
     "output_type": "execute_result"
    }
   ],
   "source": [
    "scale=MinMaxScaler()\n",
    "df1=pd.DataFrame(scale.fit_transform(df[[\"price\",\"rating\",\"time in minutes\"]]),columns=[\"scaled_price\",\"scaled_rating\",\"scaled_time\"])\n",
    "df1"
   ]
  },
  {
   "cell_type": "markdown",
   "metadata": {},
   "source": [
    "## Q6. You are working on a project to build a model to predict stock prices. The dataset contains many features, such as company financial data and market trends. Explain how you would use PCA to reduce the dimensionality of the dataset."
   ]
  },
  {
   "cell_type": "markdown",
   "metadata": {},
   "source": [
    "In the project to predict stock prices, PCA can be used to reduce the dimensionality of the dataset by identifying the most significant patterns and relationships among the features. By doing so, we can simplify the model's complexity, improve computational efficiency, and potentially enhance the model's predictive performance.\n",
    "\n",
    "PCA can be applied to reduce the dimensionality of the dataset in the following steps:\n",
    "\n",
    "**Data Collection**: Gather the dataset containing various features, such as company financial data (e.g., revenue, earnings, debt) and market trends (e.g., stock indices, economic indicators).\n",
    "\n",
    "**Data Preprocessing**: Before applying PCA, it's essential to preprocess the data by handling missing values, standardizing or normalizing numerical features, and encoding categorical features if necessary.\n",
    "\n",
    "**Feature Standardization**: To ensure that all features have the same scale, it's crucial to standardize the numerical features, so they have zero mean and unit variance. This step is necessary because PCA is sensitive to the scale of features.\n",
    "\n",
    "**PCA Transformation**: Apply PCA to the standardized feature matrix. PCA will compute the principal components, which are the orthogonal directions that capture the most significant variance in the data.\n",
    "\n",
    "**Eigenvalue and Eigenvector Analysis**: Examine the eigenvalues and corresponding eigenvectors obtained from the PCA. The eigenvalues represent the variance explained by each principal component, and the eigenvectors represent the direction of the principal components.\n",
    "\n",
    "**Select the Number of Components**: Determine the number of principal components to retain in the new reduced feature space. One common approach is to select a number of components that capture a significant portion (e.g., 95% or 99%) of the total variance in the data.\n",
    "\n",
    "**Projection of Data**: Project the original data onto the selected principal components to obtain a lower-dimensional representation of the dataset.\n",
    "\n",
    "By reducing the dimensionality using PCA, we can now work with a smaller set of principal components that represent the most important patterns in the data. These components can be used as input features for building the stock price prediction model."
   ]
  },
  {
   "cell_type": "markdown",
   "metadata": {},
   "source": [
    "## Q7. For a dataset containing the following values: [1, 5, 10, 15, 20], perform Min-Max scaling to transform the values to a range of -1 to 1."
   ]
  },
  {
   "cell_type": "code",
   "execution_count": 22,
   "metadata": {},
   "outputs": [
    {
     "data": {
      "text/plain": [
       "array([[-1.        ],\n",
       "       [-0.57894737],\n",
       "       [-0.05263158],\n",
       "       [ 0.47368421],\n",
       "       [ 1.        ]])"
      ]
     },
     "execution_count": 22,
     "metadata": {},
     "output_type": "execute_result"
    }
   ],
   "source": [
    "from sklearn.preprocessing import MinMaxScaler\n",
    "scale=MinMaxScaler(feature_range=(-1,1))\n",
    "data=np.array([1,5,10,15,20]).reshape(-1,1)\n",
    "scale.fit_transform(data)"
   ]
  },
  {
   "cell_type": "markdown",
   "metadata": {},
   "source": [
    "## Q8. For a dataset containing the following features: [height, weight, age, gender, blood pressure], perform Feature Extraction using PCA. How many principal components would you choose to retain, and why?"
   ]
  },
  {
   "cell_type": "markdown",
   "metadata": {},
   "source": [
    "To perform feature extraction using PCA on the dataset with features [height, weight, age, gender, blood pressure], we need to determine the number of principal components to retain. The number of principal components to keep depends on the amount of variance explained by each principal component. Generally, we aim to retain enough principal components that capture a significant portion of the total variance in the data while reducing the dimensionality.\n",
    "\n",
    "To decide on the number of principal components we follow these steps:\n",
    "\n",
    "1. Perform PCA: Apply PCA to the dataset to obtain the principal components and their corresponding explained variance ratios.\n",
    "\n",
    "2. Analyze Explained Variance: Examine the explained variance ratios of each principal component. The explained variance ratio represents the proportion of the dataset's variance that is explained by each principal component.\n",
    "\n",
    "3. Scree Plot: Visualize the explained variance ratios in a scree plot to see the proportion of variance explained by each principal component. The plot shows the cumulative explained variance as the number of principal components increases.\n",
    "\n",
    "4. Decide on the Number of Components: Choose the number of principal components that cumulatively explain a significant amount of variance in the data. A common approach is to retain enough components to capture a certain percentage of the total variance, e.g., 90% or 95%.\n",
    "\n",
    "The specific number of principal components to retain may vary depending on the dataset and the desired balance between dimensionality reduction and preserving information. "
   ]
  },
  {
   "cell_type": "code",
   "execution_count": 23,
   "metadata": {},
   "outputs": [
    {
     "data": {
      "text/html": [
       "<div>\n",
       "<style scoped>\n",
       "    .dataframe tbody tr th:only-of-type {\n",
       "        vertical-align: middle;\n",
       "    }\n",
       "\n",
       "    .dataframe tbody tr th {\n",
       "        vertical-align: top;\n",
       "    }\n",
       "\n",
       "    .dataframe thead th {\n",
       "        text-align: right;\n",
       "    }\n",
       "</style>\n",
       "<table border=\"1\" class=\"dataframe\">\n",
       "  <thead>\n",
       "    <tr style=\"text-align: right;\">\n",
       "      <th></th>\n",
       "      <th>Height</th>\n",
       "      <th>Weight</th>\n",
       "      <th>Age</th>\n",
       "      <th>Gender</th>\n",
       "      <th>Blood Pressure</th>\n",
       "    </tr>\n",
       "  </thead>\n",
       "  <tbody>\n",
       "    <tr>\n",
       "      <th>0</th>\n",
       "      <td>197.264488</td>\n",
       "      <td>84.799980</td>\n",
       "      <td>25</td>\n",
       "      <td>0</td>\n",
       "      <td>124.825452</td>\n",
       "    </tr>\n",
       "    <tr>\n",
       "      <th>1</th>\n",
       "      <td>181.909333</td>\n",
       "      <td>66.314008</td>\n",
       "      <td>22</td>\n",
       "      <td>0</td>\n",
       "      <td>138.974266</td>\n",
       "    </tr>\n",
       "    <tr>\n",
       "      <th>2</th>\n",
       "      <td>172.938287</td>\n",
       "      <td>69.280096</td>\n",
       "      <td>38</td>\n",
       "      <td>0</td>\n",
       "      <td>113.056646</td>\n",
       "    </tr>\n",
       "    <tr>\n",
       "      <th>3</th>\n",
       "      <td>188.764607</td>\n",
       "      <td>82.583661</td>\n",
       "      <td>51</td>\n",
       "      <td>0</td>\n",
       "      <td>129.118854</td>\n",
       "    </tr>\n",
       "    <tr>\n",
       "      <th>4</th>\n",
       "      <td>165.582489</td>\n",
       "      <td>60.802114</td>\n",
       "      <td>64</td>\n",
       "      <td>0</td>\n",
       "      <td>120.287752</td>\n",
       "    </tr>\n",
       "  </tbody>\n",
       "</table>\n",
       "</div>"
      ],
      "text/plain": [
       "       Height     Weight  Age  Gender  Blood Pressure\n",
       "0  197.264488  84.799980   25       0      124.825452\n",
       "1  181.909333  66.314008   22       0      138.974266\n",
       "2  172.938287  69.280096   38       0      113.056646\n",
       "3  188.764607  82.583661   51       0      129.118854\n",
       "4  165.582489  60.802114   64       0      120.287752"
      ]
     },
     "execution_count": 23,
     "metadata": {},
     "output_type": "execute_result"
    }
   ],
   "source": [
    "import numpy as np\n",
    "from sklearn.decomposition import PCA\n",
    "\n",
    "# Sample dataset with features [height, weight, age, gender, blood pressure]\n",
    "# Set the seed for reproducibility\n",
    "np.random.seed(678)\n",
    "\n",
    "# Generate random data for each feature\n",
    "height = np.random.normal(loc=170, scale=10, size=1000)\n",
    "weight = np.random.normal(loc=70, scale=10, size=1000)\n",
    "age = np.random.randint(18, 65, size=1000)\n",
    "gender = np.random.randint(0,1, size=1000)\n",
    "blood_pressure = np.random.normal(loc=120, scale=10, size=1000)\n",
    "\n",
    "# Combine the data into a Pandas DataFrame\n",
    "data = pd.DataFrame({'Height': height, \n",
    "                     'Weight': weight, \n",
    "                     'Age': age, \n",
    "                     'Gender': gender, \n",
    "                     'Blood Pressure': blood_pressure})\n",
    "\n",
    "# Print the first 5 rows of the data\n",
    "data.head()"
   ]
  },
  {
   "cell_type": "code",
   "execution_count": 24,
   "metadata": {},
   "outputs": [
    {
     "data": {
      "image/png": "[encoded data removed]",
      "text/plain": [
       "<Figure size 640x480 with 1 Axes>"
      ]
     },
     "metadata": {},
     "output_type": "display_data"
    }
   ],
   "source": [
    "#performing PCA\n",
    "pca = PCA()\n",
    "pca.fit_transform(data)\n",
    "\n",
    "# Analyze explained variance ratios\n",
    "explained_variance_ratios = pca.explained_variance_ratio_\n",
    "\n",
    "# Calculate cumulative explained variance\n",
    "cumulative_variance = np.cumsum(explained_variance_ratios)\n",
    "\n",
    "# Scree plot\n",
    "import matplotlib.pyplot as plt\n",
    "\n",
    "plt.plot(range(1, len(explained_variance_ratios) + 1), cumulative_variance, marker='o')\n",
    "plt.xlabel('Number of Principal Components')\n",
    "plt.ylabel('Cumulative Explained Variance')\n",
    "plt.title('Scree Plot')\n",
    "plt.grid(True)\n",
    "plt.show()"
   ]
  },
  {
   "cell_type": "code",
   "execution_count": null,
   "metadata": {},
   "outputs": [],
   "source": []
  }
 ],
 "metadata": {
  "kernelspec": {
   "display_name": "Python 3",
   "language": "python",
   "name": "python3"
  },
  "language_info": {
   "codemirror_mode": {
    "name": "ipython",
    "version": 3
   },
   "file_extension": ".py",
   "mimetype": "text/x-python",
   "name": "python",
   "nbconvert_exporter": "python",
   "pygments_lexer": "ipython3",
   "version": "3.12.1"
  }
 },
 "nbformat": 4,
 "nbformat_minor": 2
}
